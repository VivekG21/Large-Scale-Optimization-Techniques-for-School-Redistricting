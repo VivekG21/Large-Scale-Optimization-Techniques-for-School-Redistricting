{
 "cells": [
  {
   "cell_type": "code",
   "execution_count": 1,
   "metadata": {},
   "outputs": [],
   "source": [
    "from gurobipy import *"
   ]
  },
  {
   "cell_type": "code",
   "execution_count": 2,
   "metadata": {},
   "outputs": [
    {
     "name": "stdout",
     "output_type": "stream",
     "text": [
      "Restricted license - for non-production use only - expires 2022-01-13\n",
      "Gurobi Optimizer version 9.1.2 build v9.1.2rc0 (win64)\n",
      "Thread count: 4 physical cores, 8 logical processors, using up to 8 threads\n",
      "Optimize a model with 27 rows, 18 columns and 133 nonzeros\n",
      "Model fingerprint: 0x8d2f808c\n",
      "Coefficient statistics:\n",
      "  Matrix range     [1e-02, 1e+00]\n",
      "  Objective range  [2e+02, 1e+30]\n",
      "  Bounds range     [0e+00, 0e+00]\n",
      "  RHS range        [4e+02, 1e+03]\n",
      "Warning: Model contains large objective coefficients\n",
      "         Consider reformulating model or setting NumericFocus parameter\n",
      "         to avoid numerical issues.\n",
      "Presolve time: 0.00s\n",
      "Presolved: 27 rows, 18 columns, 133 nonzeros\n",
      "\n",
      "Iteration    Objective       Primal Inf.    Dual Inf.      Time\n",
      "       0    4.0250000e+05   1.185000e+03   0.000000e+00      0s\n",
      "       6    5.0750000e+05   0.000000e+00   0.000000e+00      0s\n",
      "\n",
      "Solved in 6 iterations and 0.01 seconds\n",
      "Optimal objective  5.075000000e+05\n"
     ]
    }
   ],
   "source": [
    "#Question 1 - Primal\n",
    "\n",
    "m = Model() \n",
    "#m.setParam(\"InfUnbdInfo\", 1)\n",
    "\n",
    "# Create Variables\n",
    "\n",
    "S11 = m.addVar(lb = 0, name=\"S11\") \n",
    "S12 = m.addVar(lb = 0, name=\"S12\")\n",
    "S13 = m.addVar(lb = 0, name=\"S13\") \n",
    "\n",
    "S21 = m.addVar(lb = 0, name=\"S21\") \n",
    "S22 = m.addVar(lb = 0, name=\"S22\") \n",
    "S23 = m.addVar(lb = 0, name=\"S23\") \n",
    "\n",
    "S31 = m.addVar(lb = 0, name=\"S31\") \n",
    "S32 = m.addVar(lb = 0, name=\"S32\") \n",
    "S33 = m.addVar(lb = 0, name=\"S33\") \n",
    "\n",
    "S41 = m.addVar(lb = 0, name=\"S41\") \n",
    "S42 = m.addVar(lb = 0, name=\"S42\") \n",
    "S43 = m.addVar(lb = 0, name=\"S43\") \n",
    "\n",
    "S51 = m.addVar(lb = 0, name=\"S51\") \n",
    "S52 = m.addVar(lb = 0, name=\"S52\") \n",
    "S53 = m.addVar(lb = 0, name=\"S53\") \n",
    "\n",
    "S61 = m.addVar(lb = 0, name=\"S61\") \n",
    "S62 = m.addVar(lb = 0, name=\"S62\") \n",
    "S63 = m.addVar(lb = 0, name=\"S63\") \n",
    "\n",
    "\n",
    "\n",
    "# Set Objective\n",
    "m.setObjective(250*S11 + 0*S12 + 500*S13 + #Area 1\n",
    "               10**30*S21 + 250*S22 + 300*S23 + #Area 2\n",
    "               400*S31 + 150*S32 + 200*S33 + #Area 3\n",
    "               250*S41 + 300*S42 + 10**30*S43 + #Area 4\n",
    "               150*S51 + 10**30*S52 + 250*S53 + #Area 5\n",
    "               300*S61 + 200*S62 + 0*S63 #Area 6\n",
    "               ,GRB.MINIMIZE) \n",
    "\n",
    "# Add constraints\n",
    "\n",
    "c1 = m.addConstr(S11 + S21 + S31 + S41 + S51 + S61 <= 900) #School 1 Capacity\n",
    "c2 = m.addConstr(S12 + S22 + S32 + S42 + S52 + S62 <= 1100) #School 2 Capacity \n",
    "c3 = m.addConstr(S13+ S23 + S33 + S43 + S53 + S63 <= 1000) #School 3 Capacity\n",
    "\n",
    "c4 = m.addConstr(S11 + S12 + S13 == 450) #Area 1 Supply\n",
    "c5 = m.addConstr(S21 + S22 + S23 == 500) #Area 2 Supply\n",
    "c6 = m.addConstr(S31 + S32 + S33 == 550) #Area 3 Supply\n",
    "c7 = m.addConstr(S41 + S42 + S43 == 450) #Area 4 Supply\n",
    "c8 = m.addConstr(S51 + S52 + S53 == 550) #Area 5 Supply\n",
    "c9 = m.addConstr(S61 + S62 + S63 == 400) #Area 6 Supply\n",
    "\n",
    "\n",
    "#School 1 10th grade lower and upper bounds\n",
    "c10 = m.addConstr(0.31*S11 + 0.36*S21 + 0.32*S31 + 0.29*S41 + 0.38*S51 + 0.35*S61 >= 0.30*(S11 + S21 + S31 + S41 + S51 + S61))\n",
    "c11 = m.addConstr(0.31*S11 + 0.36*S21 + 0.32*S31 + 0.29*S41 + 0.38*S51 + 0.35*S61 <= 0.36*(S11 + S21 + S31 + S41 + S51 + S61))\n",
    "\n",
    "#School 1 11th grade lower and upper bounds\n",
    "c12 = m.addConstr(0.39*S11 + 0.27*S21 + 0.33*S31 + 0.41*S41 + 0.35*S51 + 0.29*S61 >= 0.30*(S11 + S21 + S31 + S41 + S51 + S61))\n",
    "c13 = m.addConstr(0.39*S11 + 0.27*S21 + 0.33*S31 + 0.41*S41 + 0.35*S51 + 0.29*S61 <= 0.36*(S11 + S21 + S31 + S41 + S51 + S61))\n",
    "\n",
    "#School 1 12th grade lower and upper bounds\n",
    "c14 = m.addConstr(0.30*S11 + 0.37*S21 + 0.35*S31 + 0.30*S41 + 0.27*S51 + 0.36*S61 >= 0.30*(S11 + S21 + S31 + S41 + S51 + S61))\n",
    "c15 = m.addConstr(0.30*S11 + 0.37*S21 + 0.35*S31 + 0.30*S41 + 0.27*S51 + 0.36*S61 <= 0.36*(S11 + S21 + S31 + S41 + S51 + S61))\n",
    "\n",
    "\n",
    "#School 2 10th grade lower and upper bounds\n",
    "c16 = m.addConstr(0.31*S12 + 0.36*S22 + 0.32*S32 + 0.29*S42 + 0.38*S52 + 0.35*S62 >= 0.30*(S12 + S22 + S32 + S42 + S52 + S62))\n",
    "c17 = m.addConstr(0.31*S12 + 0.36*S22 + 0.32*S32 + 0.29*S42 + 0.38*S52 + 0.35*S62 <= 0.36*(S12 + S22 + S32 + S42 + S52 + S62))\n",
    "\n",
    "#School 2 11th grade lower and upper bounds\n",
    "c18 = m.addConstr(0.39*S12 + 0.27*S22 + 0.33*S32 + 0.41*S42 + 0.35*S52 + 0.29*S62 >= 0.30*(S12 + S22 + S32 + S42 + S52 + S62))\n",
    "c19 = m.addConstr(0.39*S12 + 0.27*S22 + 0.33*S32 + 0.41*S42 + 0.35*S52 + 0.29*S62 <= 0.36*(S12 + S22 + S32 + S42 + S52 + S62))\n",
    "\n",
    "#School 2 12th grade lower and upper bounds\n",
    "c20 = m.addConstr(0.30*S12 + 0.37*S22 + 0.35*S32 + 0.30*S42 + 0.27*S52 + 0.36*S62 >= 0.30*(S12 + S22 + S32 + S42 + S52 + S62))\n",
    "c21 = m.addConstr(0.30*S12 + 0.37*S22 + 0.35*S32 + 0.30*S42 + 0.27*S52 + 0.36*S62 <= 0.36*(S12 + S22 + S32 + S42 + S52 + S62))\n",
    "\n",
    "\n",
    "#School 3 10th grade lower and upper bounds\n",
    "c22 = m.addConstr(0.31*S13 + 0.36*S23 + 0.32*S33 + 0.29*S43 + 0.38*S53 + 0.35*S63 >= 0.30*(S13 + S23 + S33 + S43 + S53 + S63))\n",
    "c23 = m.addConstr(0.31*S13 + 0.36*S23 + 0.32*S33 + 0.29*S43 + 0.38*S53 + 0.35*S63 <= 0.36*(S13 + S23 + S33 + S43 + S53 + S63))\n",
    "\n",
    "#School 3 11th grade lower and upper bounds\n",
    "c24 = m.addConstr(0.39*S13 + 0.27*S23 + 0.33*S33 + 0.41*S43 + 0.35*S53 + 0.29*S63 >= 0.30*(S13 + S23 + S33 + S43 + S53 + S63))\n",
    "c25 = m.addConstr(0.39*S13 + 0.27*S23 + 0.33*S33 + 0.41*S43 + 0.35*S53 + 0.29*S63 <= 0.36*(S13 + S23 + S33 + S43 + S53 + S63))\n",
    "\n",
    "#School 3 12th grade lower and upper bounds\n",
    "c26 = m.addConstr(0.30*S13 + 0.37*S23 + 0.35*S33 + 0.30*S43 + 0.27*S53 + 0.36*S63 >= 0.30*(S13 + S23 + S33 + S43 + S53 + S63))\n",
    "c27 = m.addConstr(0.30*S13 + 0.37*S23 + 0.35*S32 + 0.30*S43 + 0.27*S53 + 0.36*S63 <= 0.36*(S13 + S23 + S33 + S43 + S53 + S63))\n",
    "\n",
    "\n",
    "\n",
    "\n",
    "# Solve\n",
    "m.optimize() "
   ]
  },
  {
   "cell_type": "code",
   "execution_count": 3,
   "metadata": {},
   "outputs": [
    {
     "name": "stdout",
     "output_type": "stream",
     "text": [
      "S11 0\n",
      "S12 450\n",
      "S13 0\n",
      "S21 0\n",
      "S22 500\n",
      "S23 0\n",
      "S31 0\n",
      "S32 37.5\n",
      "S33 512.5\n",
      "S41 337.5\n",
      "S42 112.5\n",
      "S43 0\n",
      "S51 375\n",
      "S52 0\n",
      "S53 175\n",
      "S61 187.5\n",
      "S62 0\n",
      "S63 212.5\n",
      "Obj: 507500\n"
     ]
    }
   ],
   "source": [
    "for v in m.getVars():\n",
    "    print('%s %g' % (v.varName, v.x))\n",
    "\n",
    "print('Obj: %g' % m.objVal)"
   ]
  },
  {
   "cell_type": "code",
   "execution_count": null,
   "metadata": {},
   "outputs": [],
   "source": []
  },
  {
   "cell_type": "code",
   "execution_count": null,
   "metadata": {},
   "outputs": [],
   "source": []
  },
  {
   "cell_type": "code",
   "execution_count": null,
   "metadata": {},
   "outputs": [],
   "source": []
  },
  {
   "cell_type": "code",
   "execution_count": null,
   "metadata": {},
   "outputs": [],
   "source": []
  },
  {
   "cell_type": "code",
   "execution_count": null,
   "metadata": {},
   "outputs": [],
   "source": []
  },
  {
   "cell_type": "code",
   "execution_count": null,
   "metadata": {},
   "outputs": [],
   "source": []
  },
  {
   "cell_type": "code",
   "execution_count": null,
   "metadata": {},
   "outputs": [],
   "source": []
  },
  {
   "cell_type": "code",
   "execution_count": null,
   "metadata": {},
   "outputs": [],
   "source": []
  },
  {
   "cell_type": "code",
   "execution_count": null,
   "metadata": {},
   "outputs": [],
   "source": []
  },
  {
   "cell_type": "code",
   "execution_count": null,
   "metadata": {},
   "outputs": [],
   "source": []
  }
 ],
 "metadata": {
  "kernelspec": {
   "display_name": "Python 3",
   "language": "python",
   "name": "python3"
  },
  "language_info": {
   "codemirror_mode": {
    "name": "ipython",
    "version": 3
   },
   "file_extension": ".py",
   "mimetype": "text/x-python",
   "name": "python",
   "nbconvert_exporter": "python",
   "pygments_lexer": "ipython3",
   "version": "3.8.8"
  }
 },
 "nbformat": 4,
 "nbformat_minor": 4
}
